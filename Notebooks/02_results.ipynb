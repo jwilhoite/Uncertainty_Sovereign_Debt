{
 "cells": [
  {
   "cell_type": "code",
   "execution_count": 1,
   "id": "578d62c0",
   "metadata": {},
   "outputs": [],
   "source": [
    "#Script for examining results of model"
   ]
  },
  {
   "cell_type": "code",
   "execution_count": 44,
   "id": "abb5afde",
   "metadata": {
    "tags": []
   },
   "outputs": [],
   "source": [
    "import os\n",
    "from pathlib import Path\n",
    "\n",
    "os.environ[\"PYTORCH_CUDA_ALLOC_CONF\"] = \"expandable_segments:True\"\n"
   ]
  },
  {
   "cell_type": "code",
   "execution_count": 2,
   "id": "d59be43c",
   "metadata": {
    "tags": []
   },
   "outputs": [],
   "source": [
    "import numpy as np\n",
    "\n",
    "import torch \n",
    "import torch.nn as nn\n",
    "import torch.nn.functional as F\n",
    "from torch.nn.init import kaiming_uniform_\n",
    "\n",
    "import scipy\n",
    "from scipy.stats.qmc import Sobol\n",
    "\n",
    "import plotly\n",
    "import plotly.graph_objects as go\n",
    "import plotly.express as px\n",
    "import plotly.io as pio\n",
    "plotly.io.defaults.mathjax = \"https://cdn.jsdelivr.net/npm/mathjax@3/es5/tex-mml-chtml.js\"\n",
    "pio.renderers.default = 'iframe'\n",
    "\n",
    "import matplotlib as mpl \n",
    "import matplotlib.pyplot as plt\n",
    "from matplotlib import cm, colors as mcolors"
   ]
  },
  {
   "cell_type": "code",
   "execution_count": 3,
   "id": "6ba75ad0",
   "metadata": {},
   "outputs": [],
   "source": [
    "DEVICE = torch.device(os.getenv('OP_DEVICE', 'cuda' if torch.cuda.is_available() else 'cpu'))\n",
    "DTYPE  = torch.float64"
   ]
  },
  {
   "cell_type": "code",
   "execution_count": 5,
   "id": "0c027e5f",
   "metadata": {
    "tags": []
   },
   "outputs": [],
   "source": [
    "weight = 0.7\n",
    "neg_weight = 10.0\n",
    "batch_size = 128\n",
    "\n",
    "layers = [50, 50, 50]\n",
    "seed = 33"
   ]
  },
  {
   "cell_type": "code",
   "execution_count": 6,
   "id": "53da8812",
   "metadata": {},
   "outputs": [],
   "source": [
    "torch.manual_seed(seed)\n",
    "if torch.cuda.is_available():\n",
    "    torch.cuda.manual_seed(seed)\n",
    "    torch.cuda.manual_seed_all(seed)"
   ]
  },
  {
   "cell_type": "code",
   "execution_count": 7,
   "id": "740afe42",
   "metadata": {},
   "outputs": [],
   "source": [
    "# -----------------------------------------------------------------------------\n",
    "#  Hard‑wired model parameters\n",
    "# -----------------------------------------------------------------------------\n",
    "crra = 5.0\n",
    "beta = 0.9\n",
    "alpha = 0.5\n",
    "\n",
    "psi = 7.08\n",
    "pi_star = 1.0484\n",
    "\n",
    "rho_y = 0.8118\n",
    "eta = 0.0347\n",
    "sigma_y = eta/np.sqrt(1.0 - (rho_y ** 2.0))\n",
    "\n",
    "mu = 0.0\n",
    "y_ubnd = mu + 3.0 * sigma_y\n",
    "y_lbnd = mu - 3.0 * sigma_y\n",
    "\n",
    "b_star_ubnd = 0.3\n",
    "b_star_lbnd = -0.1\n",
    "\n",
    "b_tilde_ubnd = 0.3\n",
    "b_tilde_lbnd = -0.1\n",
    "\n",
    "kappa = 40.0\n",
    "\n",
    "r = 0.039\n",
    "R = np.exp(r)\n",
    "delta = 0.757\n",
    "\n",
    "qstar = 1.0 / (R - delta)\n",
    "\n",
    "EPS = 1e-12"
   ]
  },
  {
   "cell_type": "code",
   "execution_count": 8,
   "id": "400a9e61",
   "metadata": {},
   "outputs": [],
   "source": [
    "path = ''\n",
    "base_path = f'{path}/pickle/kappa{kappa}'"
   ]
  },
  {
   "cell_type": "code",
   "execution_count": 9,
   "id": "bb2d0caf",
   "metadata": {
    "tags": []
   },
   "outputs": [],
   "source": [
    "#n_int sets the number of nodes in the Gauss-Hermite quadrature used to approximate expectations\n",
    "n_int = 19\n",
    "\n",
    "x_int_norm, w_int = np.polynomial.hermite.hermgauss(n_int)\n",
    "w_int = w_int/np.sqrt(np.pi)\n",
    "x_int_norm = x_int_norm * np.sqrt(2)\n",
    "\n",
    "w_int = torch.from_numpy(w_int).to(DEVICE)\n",
    "x_int_norm = torch.from_numpy(x_int_norm).to(DEVICE)\n",
    "\n",
    "innovation_i = x_int_norm.view(1, n_int, 1)\n",
    "weight_i = w_int.view(1, n_int, 1)"
   ]
  },
  {
   "cell_type": "code",
   "execution_count": 10,
   "id": "ebe6990f",
   "metadata": {
    "tags": []
   },
   "outputs": [],
   "source": [
    "class NN_pi(nn.Module):\n",
    "    def __init__(self, in_szs, out_szs, layers):\n",
    "        super().__init__()\n",
    "\n",
    "        layerlist = []\n",
    "        n_in = in_szs\n",
    "        \n",
    "        for i in layers:\n",
    "            kaiming_uniform_(nn.Linear(n_in, i).weight, nonlinearity='leaky_relu')\n",
    "            layerlist.append(nn.Linear(n_in, i))\n",
    "            layerlist.append(nn.LeakyReLU())\n",
    "            n_in = i\n",
    "        \n",
    "        layerlist.append(nn.Linear(layers[-1], out_szs))\n",
    "        layerlist.append(nn.Sigmoid())\n",
    "        \n",
    "        self.layers = nn.Sequential(*layerlist)\n",
    "                \n",
    "    def forward(self, x):\n",
    "        \n",
    "        pred = self.layers(x)\n",
    "        \n",
    "        pred = pred * (1.1 - 1.0) + 1.0\n",
    "                    \n",
    "        return pred"
   ]
  },
  {
   "cell_type": "code",
   "execution_count": 11,
   "id": "44453065",
   "metadata": {
    "tags": []
   },
   "outputs": [],
   "source": [
    "class NN_foreign(nn.Module):\n",
    "    def __init__(self, in_szs, out_szs, layers):\n",
    "        super().__init__()\n",
    "\n",
    "        layerlist = []\n",
    "        n_in = in_szs\n",
    "        \n",
    "        for i in layers:\n",
    "            kaiming_uniform_(nn.Linear(n_in, i).weight, nonlinearity='leaky_relu')\n",
    "            layerlist.append(nn.Linear(n_in, i))\n",
    "            layerlist.append(nn.LeakyReLU())\n",
    "            n_in = i\n",
    "        \n",
    "        layerlist.append(nn.Linear(layers[-1], out_szs))\n",
    "        layerlist.append(nn.Identity())\n",
    "        \n",
    "        self.layers = nn.Sequential(*layerlist)\n",
    "                \n",
    "    def forward(self, x):\n",
    "        \n",
    "        pred = self.layers(x)\n",
    "                    \n",
    "        return pred"
   ]
  },
  {
   "cell_type": "code",
   "execution_count": 12,
   "id": "1a917aae",
   "metadata": {
    "tags": []
   },
   "outputs": [],
   "source": [
    "class NN_local(nn.Module):\n",
    "    def __init__(self, in_szs, out_szs, layers):\n",
    "        super().__init__()\n",
    "\n",
    "        layerlist = []\n",
    "        n_in = in_szs\n",
    "        \n",
    "        for i in layers:\n",
    "            kaiming_uniform_(nn.Linear(n_in, i).weight, nonlinearity='leaky_relu')\n",
    "            layerlist.append(nn.Linear(n_in, i))\n",
    "            layerlist.append(nn.LeakyReLU())\n",
    "            n_in = i\n",
    "        \n",
    "        layerlist.append(nn.Linear(layers[-1], out_szs))\n",
    "        layerlist.append(nn.Identity())\n",
    "        \n",
    "        self.layers = nn.Sequential(*layerlist)\n",
    "                \n",
    "    def forward(self, x):\n",
    "        \n",
    "        pred = self.layers(x)\n",
    "                    \n",
    "        return pred"
   ]
  },
  {
   "cell_type": "code",
   "execution_count": 13,
   "id": "7982b6af",
   "metadata": {},
   "outputs": [],
   "source": [
    "class NN_val(nn.Module):\n",
    "    def __init__(self, in_szs, out_szs, layers):\n",
    "        super().__init__()\n",
    "\n",
    "        layerlist = []\n",
    "        n_in = in_szs\n",
    "        \n",
    "        for i in layers:\n",
    "            kaiming_uniform_(nn.Linear(n_in, i).weight, nonlinearity='leaky_relu')\n",
    "            layerlist.append(nn.Linear(n_in, i))\n",
    "            layerlist.append(nn.LeakyReLU())\n",
    "            n_in = i\n",
    "        \n",
    "        layerlist.append(nn.Linear(layers[-1], out_szs))\n",
    "        layerlist.append(nn.Identity())\n",
    "        \n",
    "        self.layers = nn.Sequential(*layerlist)\n",
    "                \n",
    "    def forward(self, x):\n",
    "        \n",
    "        pred = self.layers(x)\n",
    "                    \n",
    "        return pred"
   ]
  },
  {
   "cell_type": "code",
   "execution_count": 14,
   "id": "2663f5e5",
   "metadata": {
    "tags": []
   },
   "outputs": [],
   "source": [
    "class NN_qtilde(nn.Module):\n",
    "    def __init__(self, in_szs, out_szs, layers):\n",
    "        super().__init__()\n",
    "\n",
    "        layerlist = []\n",
    "        n_in = in_szs\n",
    "        \n",
    "        for i in layers:\n",
    "            kaiming_uniform_(nn.Linear(n_in, i).weight, nonlinearity='leaky_relu')\n",
    "            layerlist.append(nn.Linear(n_in, i))\n",
    "            layerlist.append(nn.LeakyReLU())\n",
    "            n_in = i\n",
    "        \n",
    "        layerlist.append(nn.Linear(layers[-1], out_szs))\n",
    "        layerlist.append(nn.Sigmoid())\n",
    "        \n",
    "        self.layers = nn.Sequential(*layerlist)\n",
    "                \n",
    "    def forward(self, x):\n",
    "        \n",
    "        pred = self.layers(x)\n",
    "        \n",
    "        pred = pred * 10.0\n",
    "                            \n",
    "        return pred"
   ]
  },
  {
   "cell_type": "code",
   "execution_count": 15,
   "id": "ad60424f",
   "metadata": {
    "tags": []
   },
   "outputs": [],
   "source": [
    "class NN_q(nn.Module):\n",
    "    def __init__(self, in_szs, out_szs, layers):\n",
    "        super().__init__()\n",
    "\n",
    "        layerlist = []\n",
    "        n_in = in_szs\n",
    "        \n",
    "        for i in layers:\n",
    "            kaiming_uniform_(nn.Linear(n_in, i).weight, nonlinearity='leaky_relu')\n",
    "            layerlist.append(nn.Linear(n_in, i))\n",
    "            layerlist.append(nn.LeakyReLU())\n",
    "            n_in = i\n",
    "        \n",
    "        layerlist.append(nn.Linear(layers[-1], out_szs))\n",
    "        layerlist.append(nn.Softplus())\n",
    "        \n",
    "        self.layers = nn.Sequential(*layerlist)\n",
    "                \n",
    "    def forward(self, x):\n",
    "        \n",
    "        pred = self.layers(x)\n",
    "                                    \n",
    "        return pred"
   ]
  },
  {
   "cell_type": "code",
   "execution_count": 16,
   "id": "18da3c3c",
   "metadata": {},
   "outputs": [],
   "source": [
    "def compute_error(X, nn_pi, nn_foreign, nn_local, nn_val, nn_qtilde, nn_q):\n",
    "        \n",
    "    n_data = X.shape[0]\n",
    "    \n",
    "    yt = X[:, 0:1]\n",
    "    bstar = X[:, 1:2]\n",
    "    btilde = X[:, 2:3]\n",
    "    \n",
    "    pi = nn_pi(X)\n",
    "    bstar_prime = nn_foreign(X)\n",
    "    btilde_prime = nn_local(X)\n",
    "    val = nn_val(X)\n",
    "        \n",
    "    exp_sdf = torch.zeros((n_data, 1)).to(DEVICE)\n",
    "    exp_r   = torch.zeros((n_data, 1)).to(DEVICE)\n",
    "    exp_q   = torch.zeros((n_data, 1)).to(DEVICE)\n",
    "    \n",
    "    exp_sdf_r = torch.zeros((n_data, 1)).to(DEVICE)\n",
    "    exp_sdf_q = torch.zeros((n_data, 1)).to(DEVICE)\n",
    "    exp_r_q   = torch.zeros((n_data, 1)).to(DEVICE)\n",
    "    \n",
    "    exp_q_rest = torch.zeros((n_data, 1)).to(DEVICE)\n",
    "    \n",
    "    exp_val_prime = torch.zeros((n_data, 1)).to(DEVICE)\n",
    "    exp_qtilde_inside = torch.zeros((n_data, 1)).to(DEVICE)\n",
    "    \n",
    "    exp_dval_prime_dbstar_prime = torch.zeros((n_data, 1)).to(DEVICE)\n",
    "    exp_dval_prime_dbtilde_prime = torch.zeros((n_data, 1)).to(DEVICE)\n",
    "    \n",
    "    exp_dqtilde_dbstar_prime_inside = torch.zeros((n_data, 1)).to(DEVICE)\n",
    "    exp_dqtilde_dbtilde_prime_inside = torch.zeros((n_data, 1)).to(DEVICE)\n",
    "    \n",
    "    # ------------------------------------------------------------------\n",
    "    # Compute expectation terms using vectorized code\n",
    "    # ------------------------------------------------------------------\n",
    "    #Below B is the batch size, so like 64 or 128 or 256\n",
    "    yt_b = yt[:,None]     # (B,1,1)\n",
    "    \n",
    "    m = torch.exp(-r - kappa * innovation_i * eta - 0.5 * (kappa ** 2.0) * (eta ** 2.0))\n",
    "    \n",
    "    yt_prime = torch.exp(rho_y * torch.log(yt_b) + innovation_i * eta)\n",
    "    \n",
    "    yt_prime = yt_prime.expand(-1, n_int, -1) # (B, n_int, 1)\n",
    "    m = m.expand(-1, n_int, -1)\n",
    "    \n",
    "    bstar_p = bstar_prime.unsqueeze(1)\n",
    "    btilde_p = btilde_prime.unsqueeze(1)\n",
    "    \n",
    "    bstar_p = bstar_p.expand(-1, n_int, -1)\n",
    "    btilde_p = btilde_p.expand(-1, n_int, -1)\n",
    "    \n",
    "    X_prime = torch.cat((yt_prime, bstar_p, btilde_p), dim = -1)\n",
    "    X_prime_flat = X_prime.reshape(-1, 3)  # (B*11 , 3)\n",
    "    \n",
    "    val_prime, qtilde_inside, dval_prime_dbstar_prime, dval_prime_dbtilde_prime, dqtilde_dbstar_prime_inside, dqtilde_dbtilde_prime_inside = get_exp_prime(X_prime_flat, nn_pi, nn_foreign, nn_local, nn_val, nn_qtilde, nn_q)\n",
    "\n",
    "    val_prime = val_prime.view(n_data, n_int, 1)\n",
    "    qtilde_inside = qtilde_inside.view(n_data, n_int, 1)\n",
    "    \n",
    "    dval_prime_dbstar_prime = dval_prime_dbstar_prime.view(n_data, n_int, 1)\n",
    "    dval_prime_dbtilde_prime = dval_prime_dbtilde_prime.view(n_data, n_int, 1)\n",
    "    \n",
    "    dqtilde_dbstar_prime_inside = dqtilde_dbstar_prime_inside.view(n_data, n_int, 1)\n",
    "    dqtilde_dbtilde_prime_inside = dqtilde_dbtilde_prime_inside.view(n_data, n_int, 1)\n",
    "    \n",
    "    exp_val_prime = (weight_i * val_prime).sum(1)\n",
    "    exp_qtilde_inside = (weight_i * m * qtilde_inside).sum(1)\n",
    "    \n",
    "    exp_dval_prime_dbstar_prime = (weight_i * dval_prime_dbstar_prime).sum(1)\n",
    "    exp_dval_prime_dbtilde_prime = (weight_i * dval_prime_dbtilde_prime).sum(1)\n",
    "    \n",
    "    exp_dqtilde_dbstar_prime_inside = (weight_i * m * dqtilde_dbstar_prime_inside).sum(1)\n",
    "    exp_dqtilde_dbtilde_prime_inside = (weight_i * m * dqtilde_dbtilde_prime_inside).sum(1)\n",
    "\n",
    "    # ------------------------------------------------------------------\n",
    "    # Use expectations to construct error terms\n",
    "    # ------------------------------------------------------------------\n",
    "        \n",
    "    qtilde = exp_qtilde_inside\n",
    "    dqtilde_dbstar_prime = exp_dqtilde_dbstar_prime_inside\n",
    "    dqtilde_dbtilde_prime = exp_dqtilde_dbtilde_prime_inside\n",
    "    \n",
    "    ct_discriminant = ((btilde / pi) ** 2.0) - 4.0 * (bstar - qstar * (bstar_prime - delta * bstar) - qtilde * (btilde_prime - delta * (btilde / pi)) - yt)\n",
    "    ct_discriminant_clamped = torch.clamp(ct_discriminant, min = EPS)\n",
    "    numerator = (-btilde / pi) + (ct_discriminant_clamped ** 0.5)\n",
    "    ct = 0.25 * (numerator ** 2.0)\n",
    "        \n",
    "    zeta = (1.0 / pi) * (ct ** (1.0 - alpha))\n",
    "    zeta_one = ct ** (1.0 - alpha)\n",
    "    dzeta_dpi = -(1.0 / (pi ** 2.0)) * (ct ** (1.0 - alpha))\n",
    "    dzeta_dct = (1.0 - alpha) * (1.0 / pi) * (ct ** -alpha)\n",
    "    \n",
    "    c = ct ** alpha\n",
    "    lambda_ct_numerator = (1.0 - beta) * (c ** -crra) * alpha * (ct ** (alpha - 1.0))\n",
    "    lambda_ct_denominator = 1.0 + dzeta_dct * btilde\n",
    "    lambda_ct = lambda_ct_numerator / lambda_ct_denominator\n",
    "    \n",
    "    lambda_pi_numerator = (1.0 - beta) * psi * (pi - pi_star)\n",
    "    lambda_pi_denominator = (btilde / (pi ** 2.0)) * (ct ** (1.0 - alpha)) + delta * (btilde / (pi ** 2.0)) * qtilde\n",
    "    lambda_pi = lambda_pi_numerator / lambda_pi_denominator\n",
    "    \n",
    "    xr = alpha * pi * (ct ** (alpha - 1.0))\n",
    "    \n",
    "    q = (1.0 / zeta_one) * qtilde\n",
    "    \n",
    "    qtilde_pred = nn_qtilde(X)\n",
    "    q_pred = nn_q(X)\n",
    "    \n",
    "    qtilde_detached = qtilde.detach()\n",
    "    q_detached = q.detach()\n",
    "        \n",
    "    err_qtilde = qtilde_detached - qtilde_pred\n",
    "    \n",
    "    err_q = q_detached - q_pred\n",
    "    \n",
    "    err_val = (1.0 - beta) * (((c ** (1.0 - crra)) / (1.0 - crra)) - (psi / 2.0) * ((pi - pi_star) ** 2.0)) + beta * exp_val_prime - val\n",
    "    \n",
    "    errREE_c_pi = lambda_ct - lambda_pi\n",
    "    \n",
    "    errREE_bstar = lambda_ct * (qstar + dqtilde_dbstar_prime * (btilde_prime - delta * (btilde / pi))) + beta * exp_dval_prime_dbstar_prime\n",
    "    \n",
    "    errREE_btilde = lambda_ct * (qtilde + dqtilde_dbtilde_prime * (btilde_prime - delta * (btilde / pi))) + beta * exp_dval_prime_dbtilde_prime\n",
    "    \n",
    "    err_discriminant = torch.clamp(-ct_discriminant, min = 0.0)\n",
    "    \n",
    "    err_numerator = torch.clamp(-numerator, min = 0.0)\n",
    "    \n",
    "    return (err_val, errREE_c_pi, errREE_bstar, errREE_btilde, err_qtilde, err_q, \n",
    "            err_discriminant, err_numerator, qtilde, q, bstar_prime, btilde_prime, val, pi, xr)\n",
    "    "
   ]
  },
  {
   "cell_type": "code",
   "execution_count": 17,
   "id": "ece9978b",
   "metadata": {},
   "outputs": [],
   "source": [
    "def get_exp_prime(X_prime, nn_pi, nn_foreign, nn_local, nn_val, nn_qtilde, nn_q):\n",
    "        \n",
    "    n_data = X_prime.shape[0]\n",
    "    \n",
    "    yt_prime = X_prime[:, 0:1]\n",
    "    bstar_prime = X_prime[:, 1:2]\n",
    "    btilde_prime = X_prime[:, 2:3]\n",
    "    \n",
    "    pi_prime = nn_pi(X_prime)\n",
    "    bstar_prime_next = nn_foreign(X_prime)\n",
    "    btilde_prime_next = nn_local(X_prime)\n",
    "    val_prime = nn_val(X_prime)\n",
    "        \n",
    "    qtilde_prime = nn_qtilde(X_prime)\n",
    "    q_prime = nn_q(X_prime)\n",
    "    \n",
    "    ct_discriminant_prime = ((btilde_prime / pi_prime) ** 2.0) - 4.0 * (bstar_prime - qstar * (bstar_prime_next - delta * bstar_prime) - qtilde_prime * (btilde_prime_next - delta * (btilde_prime / pi_prime)) - yt_prime)\n",
    "    ct_discriminant_prime_clamped = torch.clamp(ct_discriminant_prime, min = EPS)\n",
    "    ct_prime = 0.25 * (((-btilde_prime / pi_prime) + (ct_discriminant_prime_clamped ** 0.5)) ** 2.0)\n",
    "    \n",
    "    zeta_prime = (1.0 / pi_prime) * (ct_prime ** (1.0 - alpha))\n",
    "    dzeta_prime_dpi_prime = -(1.0 / (pi_prime ** 2.0)) * (ct_prime ** (1.0 - alpha))\n",
    "    dzeta_prime_dct_prime = (1.0 - alpha) * (1.0 / pi_prime) * (ct_prime ** -alpha)\n",
    "    \n",
    "    qtilde_inside = zeta_prime * (1.0 + delta * q_prime)\n",
    "    \n",
    "    c_prime = ct_prime ** alpha\n",
    "    lambda_ct_prime_numerator = (1.0 - beta) * (c_prime ** -crra) * alpha * (ct_prime ** (alpha - 1.0))\n",
    "    lambda_ct_prime_denominator = 1.0 + dzeta_prime_dct_prime * btilde_prime\n",
    "    lambda_ct_prime = lambda_ct_prime_numerator / lambda_ct_prime_denominator\n",
    "    \n",
    "    dval_prime_dbstar_prime = -lambda_ct_prime * (1.0 + qstar * delta)\n",
    "    dval_prime_dbtilde_prime = -lambda_ct_prime * (zeta_prime + qtilde_prime * delta * (1.0 / pi_prime))\n",
    "    \n",
    "    (dct_prime_dbstar_prime, dct_prime_dbtilde_prime, dpi_prime_dbstar_prime, \n",
    "     dpi_prime_dbtilde_prime, dq_prime_dbstar_prime, dq_prime_dbtilde_prime) = get_autograd_derivative(X_prime, nn_pi, nn_foreign, nn_local, nn_qtilde, nn_q)\n",
    "    \n",
    "    dqtilde_dbstar_prime_inside = (dzeta_prime_dpi_prime * dpi_prime_dbstar_prime + dzeta_prime_dct_prime * dct_prime_dbstar_prime) * (1.0 + delta * q_prime) + zeta_prime * delta * dq_prime_dbstar_prime\n",
    "    dqtilde_dbtilde_prime_inside = (dzeta_prime_dpi_prime * dpi_prime_dbtilde_prime + dzeta_prime_dct_prime * dct_prime_dbtilde_prime) * (1.0 + delta * q_prime) + zeta_prime * delta * dq_prime_dbtilde_prime\n",
    "    \n",
    "    return val_prime, qtilde_inside, dval_prime_dbstar_prime, dval_prime_dbtilde_prime, dqtilde_dbstar_prime_inside, dqtilde_dbtilde_prime_inside\n",
    "    "
   ]
  },
  {
   "cell_type": "code",
   "execution_count": 18,
   "id": "cc07e2d3",
   "metadata": {},
   "outputs": [],
   "source": [
    "def get_autograd_derivative(X_prime, nn_pi, nn_foreign, nn_local, nn_qtilde, nn_q):\n",
    "        \n",
    "    X_prime_auto = X_prime.detach().clone().requires_grad_(True)\n",
    "    \n",
    "    yt_prime_auto = X_prime_auto[:, 0:1]\n",
    "    bstar_prime_auto = X_prime_auto[:, 1:2]\n",
    "    btilde_prime_auto = X_prime_auto[:, 2:3]\n",
    "    \n",
    "    pi_prime_auto = nn_pi(X_prime_auto)\n",
    "    bstar_prime_next_auto = nn_foreign(X_prime_auto)\n",
    "    btilde_prime_next_auto = nn_local(X_prime_auto)\n",
    "    qtilde_prime_auto = nn_qtilde(X_prime_auto)\n",
    "    q_prime_auto = nn_q(X_prime_auto)\n",
    "    \n",
    "    ct_discriminant_prime_auto = ((btilde_prime_auto / pi_prime_auto) ** 2.0) - 4.0 * (bstar_prime_auto - qstar * (bstar_prime_next_auto - delta * bstar_prime_auto) - qtilde_prime_auto * (btilde_prime_next_auto - delta * (btilde_prime_auto / pi_prime_auto)) - yt_prime_auto)\n",
    "    ct_discriminant_prime_auto_clamped = torch.clamp(ct_discriminant_prime_auto, min = EPS)\n",
    "    numerator_prime_auto = (-btilde_prime_auto / pi_prime_auto) + torch.sqrt(ct_discriminant_prime_auto_clamped)\n",
    "    ct_prime_auto = 0.25 * (numerator_prime_auto ** 2.0)\n",
    "    \n",
    "    ct_grads = torch.autograd.grad(\n",
    "    outputs=ct_prime_auto,                      # shape (n_data, 1)\n",
    "    inputs=X_prime_auto,             # shape (n_data, 4)\n",
    "    grad_outputs=torch.ones_like(ct_prime_auto),  # each row's derivative\n",
    "    create_graph=True,)[0]\n",
    "    \n",
    "    #Compute the derivatives of ct_prime\n",
    "    dct_prime_dbstar_prime = ct_grads[:, 1:2]\n",
    "    dct_prime_dbtilde_prime = ct_grads[:, 2:3]\n",
    "    \n",
    "    pi_grads = torch.autograd.grad(\n",
    "    outputs=pi_prime_auto,                      # shape (n_data, 1)\n",
    "    inputs=X_prime_auto,             # shape (n_data, 3)\n",
    "    grad_outputs=torch.ones_like(pi_prime_auto),  # each row's derivative\n",
    "    create_graph=True,)[0]\n",
    "    \n",
    "    #Compute the derivatives of pi_prime\n",
    "    dpi_prime_dbstar_prime = pi_grads[:, 1:2]\n",
    "    dpi_prime_dbtilde_prime = pi_grads[:, 2:3]                   # shape (n_data, 1)\n",
    "    \n",
    "    q_grads = torch.autograd.grad(\n",
    "    outputs=q_prime_auto,                      # shape (n_data, 1)\n",
    "    inputs=X_prime_auto,             # shape (n_data, 3)\n",
    "    grad_outputs=torch.ones_like(q_prime_auto),  # each row's derivative\n",
    "    create_graph=True,)[0]\n",
    "    \n",
    "    #Compute the derivatives of q_prime\n",
    "    dq_prime_dbstar_prime = q_grads[:, 1:2]\n",
    "    dq_prime_dbtilde_prime = q_grads[:, 2:3]\n",
    "\n",
    "    \n",
    "    return dct_prime_dbstar_prime, dct_prime_dbtilde_prime, dpi_prime_dbstar_prime, dpi_prime_dbtilde_prime, dq_prime_dbstar_prime, dq_prime_dbtilde_prime\n",
    "    "
   ]
  },
  {
   "cell_type": "code",
   "execution_count": 19,
   "id": "fb2e42b0",
   "metadata": {},
   "outputs": [
    {
     "data": {
      "text/plain": [
       "NN_pi(\n",
       "  (layers): Sequential(\n",
       "    (0): Linear(in_features=3, out_features=50, bias=True)\n",
       "    (1): LeakyReLU(negative_slope=0.01)\n",
       "    (2): Linear(in_features=50, out_features=50, bias=True)\n",
       "    (3): LeakyReLU(negative_slope=0.01)\n",
       "    (4): Linear(in_features=50, out_features=50, bias=True)\n",
       "    (5): LeakyReLU(negative_slope=0.01)\n",
       "    (6): Linear(in_features=50, out_features=1, bias=True)\n",
       "    (7): Sigmoid()\n",
       "  )\n",
       ")"
      ]
     },
     "execution_count": 19,
     "metadata": {},
     "output_type": "execute_result"
    }
   ],
   "source": [
    "new_model_pi = NN_pi(3, 1, layers)\n",
    "new_model_pi.load_state_dict(torch.load(f'{base_path}_Model_pi.pt', map_location=DEVICE))\n",
    "new_model_pi = new_model_pi.to(device=DEVICE, dtype=torch.float64).to(DEVICE)\n",
    "new_model_pi.eval()"
   ]
  },
  {
   "cell_type": "code",
   "execution_count": 20,
   "id": "c8611e02",
   "metadata": {},
   "outputs": [
    {
     "data": {
      "text/plain": [
       "NN_foreign(\n",
       "  (layers): Sequential(\n",
       "    (0): Linear(in_features=3, out_features=50, bias=True)\n",
       "    (1): LeakyReLU(negative_slope=0.01)\n",
       "    (2): Linear(in_features=50, out_features=50, bias=True)\n",
       "    (3): LeakyReLU(negative_slope=0.01)\n",
       "    (4): Linear(in_features=50, out_features=50, bias=True)\n",
       "    (5): LeakyReLU(negative_slope=0.01)\n",
       "    (6): Linear(in_features=50, out_features=1, bias=True)\n",
       "    (7): Identity()\n",
       "  )\n",
       ")"
      ]
     },
     "execution_count": 20,
     "metadata": {},
     "output_type": "execute_result"
    }
   ],
   "source": [
    "\n",
    "new_model_foreign = NN_foreign(3, 1, layers)\n",
    "new_model_foreign.load_state_dict(torch.load(f'{base_path}_Model_foreign.pt', map_location=DEVICE))\n",
    "new_model_foreign = new_model_foreign.to(device=DEVICE, dtype=torch.float64).to(DEVICE)\n",
    "new_model_foreign.eval()"
   ]
  },
  {
   "cell_type": "code",
   "execution_count": 21,
   "id": "ca8f6d43",
   "metadata": {},
   "outputs": [
    {
     "data": {
      "text/plain": [
       "NN_local(\n",
       "  (layers): Sequential(\n",
       "    (0): Linear(in_features=3, out_features=50, bias=True)\n",
       "    (1): LeakyReLU(negative_slope=0.01)\n",
       "    (2): Linear(in_features=50, out_features=50, bias=True)\n",
       "    (3): LeakyReLU(negative_slope=0.01)\n",
       "    (4): Linear(in_features=50, out_features=50, bias=True)\n",
       "    (5): LeakyReLU(negative_slope=0.01)\n",
       "    (6): Linear(in_features=50, out_features=1, bias=True)\n",
       "    (7): Identity()\n",
       "  )\n",
       ")"
      ]
     },
     "execution_count": 21,
     "metadata": {},
     "output_type": "execute_result"
    }
   ],
   "source": [
    "new_model_local = NN_local(3, 1, layers)\n",
    "new_model_local.load_state_dict(torch.load(f'{base_path}_Model_local.pt', map_location=DEVICE))\n",
    "new_model_local = new_model_local.to(device=DEVICE, dtype=torch.float64).to(DEVICE)\n",
    "new_model_local.eval()"
   ]
  },
  {
   "cell_type": "code",
   "execution_count": 22,
   "id": "f54be0d6",
   "metadata": {},
   "outputs": [
    {
     "data": {
      "text/plain": [
       "NN_val(\n",
       "  (layers): Sequential(\n",
       "    (0): Linear(in_features=3, out_features=50, bias=True)\n",
       "    (1): LeakyReLU(negative_slope=0.01)\n",
       "    (2): Linear(in_features=50, out_features=50, bias=True)\n",
       "    (3): LeakyReLU(negative_slope=0.01)\n",
       "    (4): Linear(in_features=50, out_features=50, bias=True)\n",
       "    (5): LeakyReLU(negative_slope=0.01)\n",
       "    (6): Linear(in_features=50, out_features=1, bias=True)\n",
       "    (7): Identity()\n",
       "  )\n",
       ")"
      ]
     },
     "execution_count": 22,
     "metadata": {},
     "output_type": "execute_result"
    }
   ],
   "source": [
    "new_model_val = NN_val(3, 1, layers)\n",
    "new_model_val.load_state_dict(torch.load(f'{base_path}_Model_val.pt', map_location=DEVICE))\n",
    "new_model_val = new_model_val.to(device=DEVICE, dtype=torch.float64).to(DEVICE)\n",
    "new_model_val.eval()"
   ]
  },
  {
   "cell_type": "code",
   "execution_count": 23,
   "id": "a2153867",
   "metadata": {},
   "outputs": [
    {
     "data": {
      "text/plain": [
       "NN_qtilde(\n",
       "  (layers): Sequential(\n",
       "    (0): Linear(in_features=3, out_features=50, bias=True)\n",
       "    (1): LeakyReLU(negative_slope=0.01)\n",
       "    (2): Linear(in_features=50, out_features=50, bias=True)\n",
       "    (3): LeakyReLU(negative_slope=0.01)\n",
       "    (4): Linear(in_features=50, out_features=50, bias=True)\n",
       "    (5): LeakyReLU(negative_slope=0.01)\n",
       "    (6): Linear(in_features=50, out_features=1, bias=True)\n",
       "    (7): Sigmoid()\n",
       "  )\n",
       ")"
      ]
     },
     "execution_count": 23,
     "metadata": {},
     "output_type": "execute_result"
    }
   ],
   "source": [
    "new_model_qtilde = NN_qtilde(3, 1, layers)\n",
    "new_model_qtilde.load_state_dict(torch.load(f'{base_path}_Model_qtilde.pt', map_location=DEVICE))\n",
    "new_model_qtilde = new_model_qtilde.to(device=DEVICE, dtype=torch.float64).to(DEVICE)\n",
    "new_model_qtilde.eval()"
   ]
  },
  {
   "cell_type": "code",
   "execution_count": 24,
   "id": "a8ed7c4e",
   "metadata": {},
   "outputs": [
    {
     "data": {
      "text/plain": [
       "NN_q(\n",
       "  (layers): Sequential(\n",
       "    (0): Linear(in_features=3, out_features=50, bias=True)\n",
       "    (1): LeakyReLU(negative_slope=0.01)\n",
       "    (2): Linear(in_features=50, out_features=50, bias=True)\n",
       "    (3): LeakyReLU(negative_slope=0.01)\n",
       "    (4): Linear(in_features=50, out_features=50, bias=True)\n",
       "    (5): LeakyReLU(negative_slope=0.01)\n",
       "    (6): Linear(in_features=50, out_features=1, bias=True)\n",
       "    (7): Softplus(beta=1, threshold=20)\n",
       "  )\n",
       ")"
      ]
     },
     "execution_count": 24,
     "metadata": {},
     "output_type": "execute_result"
    }
   ],
   "source": [
    "new_model_q = NN_q(3, 1, layers)\n",
    "new_model_q.load_state_dict(torch.load(f'{base_path}_Model_q.pt', map_location=DEVICE))\n",
    "new_model_q = new_model_q.to(device=DEVICE, dtype=torch.float64).to(DEVICE)\n",
    "new_model_q.eval()"
   ]
  },
  {
   "cell_type": "code",
   "execution_count": 25,
   "id": "17b49d76",
   "metadata": {},
   "outputs": [],
   "source": [
    "def full_grid_minibatch(full_grid, \n",
    "                        mini_batch_size, \n",
    "                        nn_pi, nn_foreign, nn_local, nn_val, nn_qtilde, nn_q):\n",
    "    \n",
    "    # ---- lists to collect errors (add/remove as you need) ----\n",
    "    err_val_list        = []\n",
    "    err_cpi_list        = []\n",
    "    err_bstar_list      = []\n",
    "    err_btilde_list     = []\n",
    "    err_qtilde_list     = []\n",
    "    err_q_list          = []\n",
    "    err_disc_list       = []\n",
    "    err_num_list        = []\n",
    "    \n",
    "    # ---- lists to collect objects you need over the whole grid ----\n",
    "    qtilde_list         = []\n",
    "    q_list              = []\n",
    "    bstar_prime_list    = []\n",
    "    btilde_prime_list   = []\n",
    "    val_list            = []\n",
    "    pi_list             = []\n",
    "    xr_list             = []\n",
    "    \n",
    "    N = full_grid.shape[0]\n",
    "    \n",
    "    start = 0\n",
    "    while start < N:\n",
    "        end = min(start + mini_batch_size, N)\n",
    "        Xb = full_grid[start:end]\n",
    "        \n",
    "\n",
    "        (err_val, errREE_c_pi, errREE_bstar, errREE_btilde, err_qtilde, \n",
    "         err_q, err_discriminant, err_numerator, qtilde, q, bstar_prime, \n",
    "         btilde_prime, val, pi, xr) = compute_error(Xb, nn_pi, nn_foreign, nn_local, nn_val, nn_qtilde, nn_q)\n",
    "\n",
    "        #Append elements of loss term\n",
    "        err_val_list.append(       err_val.detach().cpu().numpy() )\n",
    "        err_cpi_list.append(       errREE_c_pi.detach().cpu().numpy() )\n",
    "        err_bstar_list.append(     errREE_bstar.detach().cpu().numpy() )\n",
    "        err_btilde_list.append(    errREE_btilde.detach().cpu().numpy() )\n",
    "        err_qtilde_list.append(    err_qtilde.detach().cpu().numpy() )\n",
    "        err_q_list.append(         err_q.detach().cpu().numpy() )\n",
    "        err_disc_list.append(      err_discriminant.detach().cpu().numpy() )\n",
    "        err_num_list.append(       err_numerator.detach().cpu().numpy() )\n",
    "        \n",
    "        #Append objects for plotting \n",
    "        qtilde_list.append(        qtilde.detach().cpu().numpy() )\n",
    "        q_list.append(             q.detach().cpu().numpy() )\n",
    "        bstar_prime_list.append(   bstar_prime.detach().cpu().numpy() )\n",
    "        btilde_prime_list.append(  btilde_prime.detach().cpu().numpy() )\n",
    "        val_list.append(           val.detach().cpu().numpy() )\n",
    "        pi_list.append(            pi.detach().cpu().numpy() )\n",
    "        xr_list.append(            xr.detach().cpu().numpy() )\n",
    "        \n",
    "        del Xb, err_val, errREE_c_pi, errREE_bstar, errREE_btilde, err_qtilde, err_q\n",
    "        del qtilde, q, bstar_prime, btilde_prime, val, pi\n",
    "        if torch.cuda.is_available():\n",
    "            torch.cuda.empty_cache()\n",
    "\n",
    "        start = end\n",
    "        \n",
    "    def _stack(lst):\n",
    "        \n",
    "        arr = np.concatenate(lst, axis=0)\n",
    "        \n",
    "        return arr\n",
    "\n",
    "    results = {\n",
    "        # errors over the full grid\n",
    "        \"err_val\":       _stack(err_val_list),\n",
    "        \"errREE_cpi\":    _stack(err_cpi_list),\n",
    "        \"errREE_bstar\":  _stack(err_bstar_list),\n",
    "        \"errREE_btilde\": _stack(err_btilde_list),\n",
    "        \"err_qtilde\":    _stack(err_qtilde_list),\n",
    "        \"err_q\":         _stack(err_q_list),\n",
    "        \"err_disc\":      _stack(err_disc_list),\n",
    "        \"err_num\":       _stack(err_num_list),\n",
    "        # \"err_discriminant\": _stack(err_discriminant_list),\n",
    "        # \"err_numerator\":    _stack(err_numerator_list),\n",
    "\n",
    "        # objects over the full grid\n",
    "        \"qtilde\":        _stack(qtilde_list),\n",
    "        \"q\":             _stack(q_list),\n",
    "        \"bstar_prime\":   _stack(bstar_prime_list),\n",
    "        \"btilde_prime\":  _stack(btilde_prime_list),\n",
    "        \"val\":           _stack(val_list),\n",
    "        \"pi\":            _stack(pi_list),\n",
    "        \"xr\":            _stack(xr_list)\n",
    "    }\n",
    "    \n",
    "    \n",
    "    return results\n"
   ]
  },
  {
   "cell_type": "code",
   "execution_count": 26,
   "id": "62276163",
   "metadata": {
    "tags": []
   },
   "outputs": [
    {
     "data": {
      "text/plain": [
       "torch.Size([16, 1])"
      ]
     },
     "execution_count": 26,
     "metadata": {},
     "output_type": "execute_result"
    }
   ],
   "source": [
    "#Construct a grid with n_data nodes per state dimension. Nodes are evenly spaced over the domain of each state\n",
    "n_data = 16\n",
    "\n",
    "y_t_grid_log = torch.linspace(y_lbnd, y_ubnd, n_data)\n",
    "y_t_grid = torch.exp(y_t_grid_log)\n",
    "y_t_grid = y_t_grid.view(n_data, 1).to(DEVICE)\n",
    "y_t_grid.shape"
   ]
  },
  {
   "cell_type": "code",
   "execution_count": 27,
   "id": "f75e3c3d",
   "metadata": {
    "tags": []
   },
   "outputs": [
    {
     "data": {
      "text/plain": [
       "torch.Size([16, 1])"
      ]
     },
     "execution_count": 27,
     "metadata": {},
     "output_type": "execute_result"
    }
   ],
   "source": [
    "bstar_grid = torch.linspace(b_star_lbnd, b_star_ubnd, n_data)\n",
    "bstar_grid = bstar_grid.view(n_data, 1).to(DEVICE)\n",
    "bstar_grid.shape"
   ]
  },
  {
   "cell_type": "code",
   "execution_count": 28,
   "id": "0b659c8a",
   "metadata": {
    "tags": []
   },
   "outputs": [
    {
     "data": {
      "text/plain": [
       "torch.Size([16, 1])"
      ]
     },
     "execution_count": 28,
     "metadata": {},
     "output_type": "execute_result"
    }
   ],
   "source": [
    "btilde_grid = torch.linspace(b_tilde_lbnd, b_tilde_ubnd, n_data)\n",
    "btilde_grid = btilde_grid.view(n_data, 1).to(DEVICE)\n",
    "btilde_grid.shape"
   ]
  },
  {
   "cell_type": "code",
   "execution_count": 29,
   "id": "3b8d914f",
   "metadata": {
    "tags": []
   },
   "outputs": [],
   "source": [
    "num_data = y_t_grid.shape[0]\n",
    "num_data2 = y_t_grid.shape[0] * bstar_grid.shape[0]\n",
    "total_data = y_t_grid.shape[0] * bstar_grid.shape[0] * btilde_grid.shape[0]\n",
    "\n",
    "full_tilde_grid = torch.zeros(total_data, 3)\n",
    "\n",
    "for i in range(num_data):\n",
    "    full_tilde_grid[i*num_data2 : (i+1)*num_data2, 0 : 1] = y_t_grid[i]\n",
    "    for j in range(num_data):\n",
    "        full_tilde_grid[i*num_data2 + j*num_data : i*num_data2 + (j+1)*num_data , 1 : 2] = bstar_grid[j]\n",
    "        for k in range(num_data):\n",
    "            full_tilde_grid[i*num_data2 + j*num_data + k, 2 : 3] = btilde_grid[k]\n",
    "        \n",
    "full_tilde_grid = full_tilde_grid.to(device=DEVICE, dtype=torch.float64).to(DEVICE)"
   ]
  },
  {
   "cell_type": "code",
   "execution_count": 30,
   "id": "524a52a3",
   "metadata": {},
   "outputs": [],
   "source": [
    "mini_batch_size = full_tilde_grid.shape[0] // 64\n",
    "\n",
    "output = full_grid_minibatch(full_tilde_grid, \n",
    "                             mini_batch_size, \n",
    "                             new_model_pi, new_model_foreign, new_model_local, new_model_val, new_model_qtilde, new_model_q)"
   ]
  },
  {
   "cell_type": "code",
   "execution_count": 31,
   "id": "1c367335",
   "metadata": {
    "tags": []
   },
   "outputs": [],
   "source": [
    "w_neg = neg_weight\n",
    "w_val = weight\n",
    "w_ERR = (1.0 - weight) / 5.0\n",
    "\n",
    "loss = w_ERR * np.mean(output[\"errREE_cpi\"] ** 2) + w_ERR * np.mean(output[\"errREE_bstar\"] ** 2) + w_ERR * np.mean(output[\"errREE_btilde\"] ** 2) + w_ERR * np.mean(output[\"err_qtilde\"] ** 2) + w_ERR * np.mean(output[\"err_q\"] ** 2) + w_val * np.mean(output[\"err_val\"] ** 2) + w_neg * np.mean(output[\"err_disc\"] ** 2) + w_neg * np.mean(output[\"err_num\"] ** 2)    \n"
   ]
  },
  {
   "cell_type": "code",
   "execution_count": 32,
   "id": "f8cceaab",
   "metadata": {},
   "outputs": [
    {
     "name": "stdout",
     "output_type": "stream",
     "text": [
      "Avg loss = 4.026521283744045e+39\n",
      "Value func MSE = 1.7270792759073888e+28\n",
      "Consumption MSE = 2.9138668006664505e+39\n",
      "FC debt MSE = 5.062204586655421e+40\n",
      "LC debt MSE = 1.3572775394978585e+40\n",
      "LC debt price MSE = 257513.48059181482\n",
      "Detrended LC debt price MSE = 13.69203946363302\n"
     ]
    }
   ],
   "source": [
    "print(f'Avg loss = {loss}')\n",
    "print(f'Value func MSE = {np.mean(output[\"err_val\"] ** 2)}')\n",
    "print(f'Consumption MSE = {np.mean(output[\"errREE_cpi\"] ** 2)}')\n",
    "print(f'FC debt MSE = {np.mean(output[\"errREE_bstar\"] ** 2)}')\n",
    "print(f'LC debt MSE = {np.mean(output[\"errREE_btilde\"] ** 2)}')\n",
    "print(f'LC debt price MSE = {np.mean(output[\"err_q\"] ** 2)}')\n",
    "print(f'Detrended LC debt price MSE = {np.mean(output[\"err_qtilde\"] ** 2)}')"
   ]
  },
  {
   "cell_type": "code",
   "execution_count": 33,
   "id": "a6dbb375",
   "metadata": {
    "tags": []
   },
   "outputs": [],
   "source": [
    "n_data = num_data\n",
    "n_data2 = num_data2"
   ]
  },
  {
   "cell_type": "code",
   "execution_count": 34,
   "id": "cfc33c7a",
   "metadata": {
    "tags": []
   },
   "outputs": [],
   "source": [
    "full_tilde_grid = full_tilde_grid.cpu().detach().numpy()\n",
    "btilde_grid = full_tilde_grid[:, 2].reshape(n_data, n_data, n_data)\n",
    "y_grid = full_tilde_grid[:, 0].reshape(n_data, n_data, n_data)\n",
    "\n",
    "y_levels = y_grid[:, 0, 0]"
   ]
  },
  {
   "cell_type": "code",
   "execution_count": 42,
   "id": "080b5e3f",
   "metadata": {
    "tags": []
   },
   "outputs": [],
   "source": [
    "bstar_index_mid  = n_data // 2"
   ]
  },
  {
   "cell_type": "code",
   "execution_count": 45,
   "id": "9a010cfe",
   "metadata": {},
   "outputs": [],
   "source": [
    "# -----------------------------------------------------------------------------\n",
    "#  Plot figures from model solution\n",
    "# -----------------------------------------------------------------------------\n",
    "base = Path(path or \".\").expanduser().resolve() \n",
    "fig_dir = base / \"figures\"\n",
    "fig_dir.mkdir(parents=True, exist_ok=True)"
   ]
  },
  {
   "cell_type": "code",
   "execution_count": 46,
   "id": "3930e95f",
   "metadata": {
    "tags": []
   },
   "outputs": [],
   "source": [
    "mpl.rcParams.update({\n",
    "    \"text.usetex\": False,\n",
    "    \"font.family\": \"serif\",\n",
    "    \"mathtext.fontset\": \"cm\",\n",
    "    \"font.size\": 10,\n",
    "    \"axes.titlesize\": 12,\n",
    "    \"pdf.fonttype\": 42,\n",
    "    \"svg.fonttype\": \"none\",\n",
    "})"
   ]
  },
  {
   "cell_type": "code",
   "execution_count": 47,
   "id": "6af4dc66",
   "metadata": {},
   "outputs": [],
   "source": [
    "def setup_plotly_pubstyle():\n",
    "    # Times New Roman if available; otherwise fall back to free look-alikes.\n",
    "    font_stack = \"Times New Roman, Times, Liberation Serif, Nimbus Roman, TeX Gyre Termes, serif\"\n",
    "\n",
    "    pio.templates[\"pub\"] = go.layout.Template(\n",
    "        layout=dict(\n",
    "            # global font\n",
    "            font=dict(family=font_stack, size=12),\n",
    "            title=dict(font=dict(size=20)),\n",
    "            legend=dict(font=dict(size=12), orientation=\"h\", x=0, y=1.02, borderwidth=0),\n",
    "            paper_bgcolor=\"white\",\n",
    "            plot_bgcolor=\"#efefef\",\n",
    "            margin=dict(l=80, r=20, t=60, b=60),\n",
    "\n",
    "            # axes style (mirrored spines, outside ticks, light grid)\n",
    "            xaxis=dict(\n",
    "                zeroline = False,\n",
    "                title_font=dict(size=16),\n",
    "                tickfont=dict(size=14),\n",
    "                showline=True, mirror=True, linewidth=1, linecolor=\"white\",\n",
    "                ticks=\"outside\", tickwidth=1, tickcolor=\"white\",\n",
    "                showgrid=True, gridcolor=\"rgba(0,0,0,0.12)\"\n",
    "            ),\n",
    "            yaxis=dict(\n",
    "                zeroline = False,\n",
    "                title_font=dict(size=16),\n",
    "                tickfont=dict(size=14),\n",
    "                showline=True, mirror=True, linewidth=1, linecolor=\"white\",\n",
    "                ticks=\"outside\", tickwidth=1, tickcolor=\"white\",\n",
    "                showgrid=True, gridcolor=\"rgba(0,0,0,0.12)\"\n",
    "            ),\n",
    "\n",
    "            # optional: a restrained color cycle\n",
    "            colorway=[\"#1f77b4\",\"#ff7f0e\",\"#2ca02c\",\"#d62728\",\"#9467bd\",\"#8c564b\"]\n",
    "        )\n",
    "    )\n",
    "\n",
    "    # make it the default for this session\n",
    "    pio.templates.default = \"pub\"\n",
    "\n",
    "    # sensible export defaults (vector by default)\n",
    "    plotly.io.defaults.default_format = \"pdf\"   # or \"svg\"/\"png\"\n",
    "    plotly.io.defaults.default_width  = 800\n",
    "    plotly.io.defaults.default_height = 600\n",
    "    # keep MathJax on so LaTeX in titles/labels renders in static exports\n",
    "    plotly.io.defaults.mathjax = \"cdn\""
   ]
  },
  {
   "cell_type": "code",
   "execution_count": 55,
   "id": "ef262023",
   "metadata": {
    "tags": []
   },
   "outputs": [],
   "source": [
    "def plot_panel(bstar_idx, title, ylabel, pol):\n",
    "    \n",
    "    savepath = pol\n",
    "    \n",
    "    color_map = mpl.colormaps.get_cmap('viridis')\n",
    "    #Normalize the color map so that each line is assignd a uniqu color btween 0 \n",
    "    # and 1, so that u = y - y_min / (y_max - y_min) withc is between [0,1]\n",
    "    norm = mcolors.Normalize(vmin = y_levels.min(), vmax = y_levels.max())\n",
    "    sm = cm.ScalarMappable(norm = norm, cmap = color_map); sm.set_array([])    \n",
    "    \n",
    "    pol_arr = output[pol][:, 0].reshape(n_data, n_data, n_data)\n",
    "    \n",
    "    fig, ax = plt.subplots()\n",
    "    \n",
    "    for i in range(n_data):\n",
    "        \n",
    "        x = btilde_grid[0, 0, :]\n",
    "        y = pol_arr[i, bstar_idx, :]\n",
    "        ax.plot(x, y, color = color_map(norm(y_levels[i])))\n",
    "        \n",
    "    plt.title(title)\n",
    "    plt.xlabel('LC Bonds')\n",
    "    plt.ylabel(ylabel)\n",
    "    cbar = plt.colorbar(sm, pad = 0.01, ax = ax)\n",
    "    #Inverts the colormap key title on the RHS of the plot. Makes it easier to read\n",
    "    cbar.ax.set_ylabel('Tradable Output', rotation=-90, va=\"bottom\")\n",
    "    \n",
    "    fig.tight_layout()\n",
    "    fig.savefig(fig_dir / f\"{pol}.png\", dpi=300, bbox_inches=\"tight\")\n",
    "    "
   ]
  },
  {
   "cell_type": "code",
   "execution_count": 56,
   "id": "2d536c10",
   "metadata": {
    "tags": []
   },
   "outputs": [
    {
     "data": {
      "image/png": "[encoded data removed]",
      "text/plain": [
       "<Figure size 640x480 with 2 Axes>"
      ]
     },
     "metadata": {},
     "output_type": "display_data"
    }
   ],
   "source": [
    "plot_panel(bstar_index_mid, \"Price of Bonds vs LC Bonds\", \"Price of Bonds\", \"qtilde\")"
   ]
  },
  {
   "cell_type": "code",
   "execution_count": 58,
   "id": "cdcc4ce8",
   "metadata": {
    "tags": []
   },
   "outputs": [
    {
     "data": {
      "image/png": "[encoded data removed]",
      "text/plain": [
       "<Figure size 640x480 with 2 Axes>"
      ]
     },
     "metadata": {},
     "output_type": "display_data"
    }
   ],
   "source": [
    "plot_panel(bstar_index_mid, \"Value Function vs LC Bonds\", \"Value Function\", \"val\")"
   ]
  },
  {
   "cell_type": "code",
   "execution_count": 51,
   "id": "05214ec2",
   "metadata": {
    "scrolled": false,
    "tags": []
   },
   "outputs": [
    {
     "data": {
      "text/html": [
       "<iframe\n",
       "    scrolling=\"no\"\n",
       "    width=\"100%\"\n",
       "    height=\"545px\"\n",
       "    src=\"iframe_figures/figure_51.html\"\n",
       "    frameborder=\"0\"\n",
       "    allowfullscreen\n",
       "></iframe>\n"
      ]
     },
     "metadata": {},
     "output_type": "display_data"
    }
   ],
   "source": [
    "y_index = np.int64(n_data / 2)\n",
    "\n",
    "fig = go.Figure(data=go.Scatter(\n",
    "    x = full_tilde_grid[y_index * n_data2 : (y_index + 1) * n_data2, 1],\n",
    "    y = full_tilde_grid[y_index * n_data2 : (y_index + 1) * n_data2, 2],\n",
    "    mode='markers',\n",
    "    marker=dict(\n",
    "        size=9,\n",
    "        color = output[\"qtilde\"][y_index * n_data2 : (y_index + 1) * n_data2, 0], #set color equal to a variable\n",
    "        colorscale='Viridis', # one of plotly colorscales\n",
    "        showscale=True,\n",
    "        colorbar=dict(\n",
    "                title=\"LC Bond Price\",        # ← colorbar title\n",
    "                title_side=\"right\"         # optional: 'right', 'top', 'bottom'\n",
    "            ),\n",
    "    )\n",
    "))\n",
    "\n",
    "fig.update_layout(\n",
    "    title=\"LC Bond Price vs. LC Bonds and FC bonds - Middle Income\",\n",
    "    xaxis_title=\"LC Bonds\",\n",
    "    yaxis_title=\"FC Bonds\",)\n",
    "\n",
    "fig.show()\n",
    "\n",
    "fig.write_image(fig_dir / \"LCBond_price.png\")"
   ]
  },
  {
   "cell_type": "code",
   "execution_count": 61,
   "id": "4e2a5702",
   "metadata": {},
   "outputs": [
    {
     "data": {
      "text/html": [
       "<iframe\n",
       "    scrolling=\"no\"\n",
       "    width=\"100%\"\n",
       "    height=\"545px\"\n",
       "    src=\"iframe_figures/figure_61.html\"\n",
       "    frameborder=\"0\"\n",
       "    allowfullscreen\n",
       "></iframe>\n"
      ]
     },
     "metadata": {},
     "output_type": "display_data"
    }
   ],
   "source": [
    "y_index = np.int64(n_data / 2)\n",
    "\n",
    "fig = go.Figure(data=go.Scatter(\n",
    "    x = full_tilde_grid[y_index * n_data2 : (y_index + 1) * n_data2, 1],\n",
    "    y = full_tilde_grid[y_index * n_data2 : (y_index + 1) * n_data2, 2],\n",
    "    mode='markers',\n",
    "    marker=dict(\n",
    "        size=9,\n",
    "        color = output[\"btilde_prime\"][y_index * n_data2 : (y_index + 1) * n_data2, 0], #set color equal to a variable\n",
    "        colorscale='Viridis', # one of plotly colorscales\n",
    "        showscale=True,\n",
    "        colorbar=dict(\n",
    "                title=\"Issued LC Bonds\",        # ← colorbar title\n",
    "                title_side=\"right\"        # optional: 'right', 'top', 'bottom'\n",
    "            ),\n",
    "    )\n",
    "))\n",
    "\n",
    "fig.update_layout(\n",
    "    title=\"Issued LC Bonds vs. Outstanding LC Bonds and FC Bonds - Middle Income\",\n",
    "    xaxis_title=\"LC Bonds\",\n",
    "    yaxis_title=\"FC Bonds\",)\n",
    "\n",
    "fig.show()\n",
    "fig.write_image(fig_dir / \"LCBond_issuance.png\")"
   ]
  },
  {
   "cell_type": "code",
   "execution_count": 59,
   "id": "0123e8cd",
   "metadata": {},
   "outputs": [
    {
     "data": {
      "text/html": [
       "<iframe\n",
       "    scrolling=\"no\"\n",
       "    width=\"100%\"\n",
       "    height=\"545px\"\n",
       "    src=\"iframe_figures/figure_59.html\"\n",
       "    frameborder=\"0\"\n",
       "    allowfullscreen\n",
       "></iframe>\n"
      ]
     },
     "metadata": {},
     "output_type": "display_data"
    }
   ],
   "source": [
    "y_index = np.int64(n_data / 2)\n",
    "\n",
    "fig = go.Figure(data=go.Scatter(\n",
    "    x = full_tilde_grid[y_index * n_data2 : (y_index + 1) * n_data2, 1],\n",
    "    y = full_tilde_grid[y_index * n_data2 : (y_index + 1) * n_data2, 2],\n",
    "    mode='markers',\n",
    "    marker=dict(\n",
    "        size=9,\n",
    "        color = output[\"bstar_prime\"][y_index * n_data2 : (y_index + 1) * n_data2, 0], #set color equal to a variable\n",
    "        colorscale='Viridis', # one of plotly colorscales\n",
    "        showscale=True,\n",
    "        colorbar=dict(\n",
    "                title=\"Issued FC Bonds\",        # ← colorbar title\n",
    "                title_side=\"right\"        # optional: 'right', 'top', 'bottom'\n",
    "            ),\n",
    "    )\n",
    "))\n",
    "\n",
    "fig.update_layout(\n",
    "    title=\"Issued FC Bonds vs. Outstanding LC Bonds and FC Bonds - Middle Income\",\n",
    "    xaxis_title=\"LC Bonds\",\n",
    "    yaxis_title=\"FC Bonds\",)\n",
    "\n",
    "fig.show()\n",
    "fig.write_image(fig_dir / \"FCBond_issuance.png\")"
   ]
  },
  {
   "cell_type": "code",
   "execution_count": 52,
   "id": "d07a275e",
   "metadata": {},
   "outputs": [
    {
     "data": {
      "text/html": [
       "<iframe\n",
       "    scrolling=\"no\"\n",
       "    width=\"100%\"\n",
       "    height=\"545px\"\n",
       "    src=\"iframe_figures/figure_52.html\"\n",
       "    frameborder=\"0\"\n",
       "    allowfullscreen\n",
       "></iframe>\n"
      ]
     },
     "metadata": {},
     "output_type": "display_data"
    }
   ],
   "source": [
    "y_index = np.int64(n_data / 2)\n",
    "\n",
    "fig = go.Figure(data=go.Scatter(\n",
    "    x = full_tilde_grid[y_index * n_data2 : (y_index + 1) * n_data2, 1],\n",
    "    y = full_tilde_grid[y_index * n_data2 : (y_index + 1) * n_data2, 2],\n",
    "    mode='markers',\n",
    "    marker=dict(\n",
    "        size=9,\n",
    "        color = output[\"xr\"][y_index * n_data2 : (y_index + 1) * n_data2, 0], #set color equal to a variable\n",
    "        colorscale='Viridis', # one of plotly colorscales\n",
    "        showscale=True,\n",
    "        colorbar=dict(\n",
    "                title=\"Exchange Rate\",        # ← colorbar title\n",
    "                title_side=\"right\"        # optional: 'right', 'top', 'bottom'\n",
    "            ),\n",
    "    )\n",
    "))\n",
    "\n",
    "fig.update_layout(\n",
    "    title=\"Exchange Rate vs. Outstanding LC Bonds and FC Bonds - Middle Income\",\n",
    "    xaxis_title=\"LC Bonds\",\n",
    "    yaxis_title=\"FC Bonds\",)\n",
    "\n",
    "fig.show()\n",
    "fig.write_image(fig_dir / \"ExchangeRate.png\")"
   ]
  },
  {
   "cell_type": "code",
   "execution_count": null,
   "id": "024037c0",
   "metadata": {},
   "outputs": [],
   "source": []
  }
 ],
 "metadata": {
  "kernelspec": {
   "display_name": "enviro_dis",
   "language": "python",
   "name": "enviro_dis"
  },
  "language_info": {
   "codemirror_mode": {
    "name": "ipython",
    "version": 3
   },
   "file_extension": ".py",
   "mimetype": "text/x-python",
   "name": "python",
   "nbconvert_exporter": "python",
   "pygments_lexer": "ipython3",
   "version": "3.11.9"
  }
 },
 "nbformat": 4,
 "nbformat_minor": 5
}
